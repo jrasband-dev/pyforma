{
 "cells": [
  {
   "cell_type": "code",
   "execution_count": null,
   "metadata": {},
   "outputs": [],
   "source": [
    "from pyforma.core import Form\n",
    "from pyforma.fields import *\n",
    "from dataclasses import dataclass, field\n",
    "from dataclasses import fields\n",
    "\n",
    "\n",
    "@dataclass\n",
    "class User:\n",
    "    name: text \n",
    "    age: number\n",
    "    email: text \n",
    "    dob: date\n",
    "    Request: picklist\n",
    "    test: textarea\n",
    "\n",
    "    name: text = field(default = None, metadata={'required':True})\n",
    "    age: number = field(default = None, metadata={'required':True})\n",
    "    email: text = field(default = None, metadata={'required':True})\n",
    "    dob: date = field(default = None, metadata={'required':True})\n",
    "    Request: picklist = field(default_factory=['','New', 'Existing'], metadata={'required':True})\n",
    "    test: textarea  = field(default = None, metadata={'required':True})\n",
    "    \n",
    "    \n",
    "\n",
    "# for field in fields(User):\n",
    "#     print(field)\n",
    "\n",
    "# print(dropdown)\n",
    "Form(User).to_dict()\n",
    "Form(User).save_html('Test.html')"
   ]
  },
  {
   "cell_type": "code",
   "execution_count": null,
   "metadata": {},
   "outputs": [],
   "source": []
  },
  {
   "cell_type": "code",
   "execution_count": null,
   "metadata": {},
   "outputs": [],
   "source": []
  }
 ],
 "metadata": {
  "kernelspec": {
   "display_name": "venv",
   "language": "python",
   "name": "python3"
  },
  "language_info": {
   "codemirror_mode": {
    "name": "ipython",
    "version": 3
   },
   "file_extension": ".py",
   "mimetype": "text/x-python",
   "name": "python",
   "nbconvert_exporter": "python",
   "pygments_lexer": "ipython3",
   "version": "3.11.4"
  }
 },
 "nbformat": 4,
 "nbformat_minor": 2
}
